{
 "cells": [
  {
   "cell_type": "markdown",
   "metadata": {},
   "source": [
    "The purpose of this project is to perform text analysis on Robert Frost's poem \"Home Burial\" to Edgar Allen Poe's \"Annabel Lee\" using Python 3. Using Python, we will be extracting the most frequently used words in each poem and then comparing the results. The theme of each poem centers around death and love. In Forst's \"Home Burial,\" the narrative focuses on the collapse of a marriage caused by the death of the couple's young child. In Poe's \"Annabel Lee,\" the narrative focuses on the love the narrator shared with a woman named, Annabel, who past away. Although there are overlapping themes within each poem, we expect Frost's \"Home Burial\" will have more negative words than Poe's \"Annabel Lee\" within the 10 top words most frequently used. We believe \"Home Burial\" will have more negative words since the poem focuses on marital conflict, while \"Annabel Lee\" focuses on fond memories the narrator shared."
   ]
  },
  {
   "cell_type": "markdown",
   "metadata": {},
   "source": [
    "#### Python Process :"
   ]
  },
  {
   "cell_type": "code",
   "execution_count": 94,
   "metadata": {},
   "outputs": [],
   "source": [
    "import operator\n",
    "import time\n",
    "import string\n",
    "import re\n",
    "from collections import defaultdict\n",
    "from nltk.corpus import stopwords"
   ]
  },
  {
   "cell_type": "code",
   "execution_count": 95,
   "metadata": {},
   "outputs": [],
   "source": [
    "try:\n",
    "    stops = stopwords.words('english')\n",
    "except LookupError:\n",
    "      import nltk\n",
    "      nltk.download('stopwords')\n",
    "      stops = stopwords.words('english')"
   ]
  },
  {
   "cell_type": "markdown",
   "metadata": {},
   "source": [
    "> The try and except block will try to load the stopwords. If the stopwords are not installed then it will install them and load them."
   ]
  },
  {
   "cell_type": "code",
   "execution_count": 96,
   "metadata": {},
   "outputs": [],
   "source": [
    "stops = set(stops) "
   ]
  },
  {
   "cell_type": "markdown",
   "metadata": {},
   "source": [
    "> The code above checks something is in a set than a list."
   ]
  },
  {
   "cell_type": "code",
   "execution_count": 97,
   "metadata": {},
   "outputs": [],
   "source": [
    "f = open('homeburial_clean.txt', 'rb')"
   ]
  },
  {
   "cell_type": "markdown",
   "metadata": {},
   "source": [
    "> We use the open method to open the Home Burial file. The 'r' argument reads the file and the 'b' argument tells Python to read the file as bytes. Note, the poem was downloaded from gutenberg.org and text file was cleaned to get rid of errorenous any text using UNIX."
   ]
  },
  {
   "cell_type": "code",
   "execution_count": 98,
   "metadata": {},
   "outputs": [],
   "source": [
    "start = time.time()\n",
    "frost = defaultdict(int)\n",
    "punc = string.punctuation\n",
    "for line in f:\n",
    "    #remove punctuation\n",
    "    cln_line = re.sub('[' + punc + ']', '', line.decode('utf‐8'))\n",
    "    cln_line = cln_line.lower()  # convert to lowercase\n",
    "    spl_line = cln_line.split()  # splits a string, by default on spaces\n",
    "    for word in spl_line:\n",
    "        #if the word is a stopword then the loop continues without going further\n",
    "        if word in stops:\n",
    "            continue\n",
    "        frost.setdefault(word, 0) # set word to 0 if it is not in frost\n",
    "        frost[word] += 1 #increase the value by 1"
   ]
  },
  {
   "cell_type": "markdown",
   "metadata": {},
   "source": [
    "> The loop removes punctuation, transforms all words to lowercase, splits the text into lines, and then counts each word. If it has already counted a word, then the value increases by 1 for that word."
   ]
  },
  {
   "cell_type": "code",
   "execution_count": 99,
   "metadata": {},
   "outputs": [
    {
     "name": "stdout",
     "output_type": "stream",
     "text": [
      "Run took 0.11928701400756836  seconds.\n",
      "Number of distinct words:  299\n"
     ]
    }
   ],
   "source": [
    "sorted_frost = sorted(frost.items(), key=operator.itemgetter(1), reverse=True)\n",
    "elapsed = time.time()-start\n",
    "print('Run took', elapsed, ' seconds.')\n",
    "print('Number of distinct words: ', len(sorted_frost))"
   ]
  },
  {
   "cell_type": "markdown",
   "metadata": {},
   "source": [
    "> The code above sorts the word according to frequency."
   ]
  },
  {
   "cell_type": "code",
   "execution_count": 100,
   "metadata": {},
   "outputs": [
    {
     "name": "stdout",
     "output_type": "stream",
     "text": [
      "('dont', 16)\n",
      "('see', 8)\n",
      "('know', 7)\n",
      "('man', 7)\n",
      "('go', 7)\n",
      "('must', 6)\n",
      "('cant', 6)\n",
      "('time', 5)\n",
      "('oh', 5)\n",
      "('little', 5)\n"
     ]
    }
   ],
   "source": [
    "top_n = 10\n",
    "y=[]\n",
    "for pair in range(top_n):\n",
    "    y.append([sorted_frost[pair][1]])\n",
    "    print(sorted_frost[pair])"
   ]
  },
  {
   "cell_type": "markdown",
   "metadata": {},
   "source": [
    "> The code above outputs the results for the top 10 words in Frost's poem \"Home Burial.\""
   ]
  },
  {
   "cell_type": "code",
   "execution_count": 102,
   "metadata": {},
   "outputs": [],
   "source": [
    "f = open('annabellee_clean.txt', 'rb')"
   ]
  },
  {
   "cell_type": "markdown",
   "metadata": {},
   "source": [
    "> We use the open method to open the Annabelle Lee file. The 'r' argument reads the file and the 'b' argument tells Python to read the file as bytes. Note, the poem was downloaded from gutenberg.org and text file was cleaned to get rid of errorenous any text using UNIX."
   ]
  },
  {
   "cell_type": "code",
   "execution_count": 103,
   "metadata": {},
   "outputs": [],
   "source": [
    "start = time.time()\n",
    "poe = defaultdict(int)\n",
    "punc = string.punctuation\n",
    "for line in f:\n",
    "    cln_line = re.sub('[' + punc + ']', '', line.decode('utf‐8')) #remove punctuation\n",
    "    cln_line = cln_line.lower()  # convert to lowercase\n",
    "    spl_line = cln_line.split()  # splits a string, by default on spaces\n",
    "    for word in spl_line:\n",
    "        #if the word is a stopword then the loop continues without going further\n",
    "        if word in stops: \n",
    "            continue\n",
    "        poe.setdefault(word, 0) # set word to 0 if it is not in poe\n",
    "        poe[word] += 1 #increase the value by 1"
   ]
  },
  {
   "cell_type": "code",
   "execution_count": 104,
   "metadata": {},
   "outputs": [
    {
     "name": "stdout",
     "output_type": "stream",
     "text": [
      "Run took 0.13471293449401855  seconds.\n",
      "Number of distinct words:  79\n"
     ]
    }
   ],
   "source": [
    "sorted_poe = sorted(poe.items(), key=operator.itemgetter(1), reverse=True)\n",
    "elapsed = time.time()-start\n",
    "print('Run took', elapsed, ' seconds.')\n",
    "print('Number of distinct words: ', len(sorted_poe))"
   ]
  },
  {
   "cell_type": "markdown",
   "metadata": {},
   "source": [
    "> The code above sorts the word according to frequency."
   ]
  },
  {
   "cell_type": "code",
   "execution_count": 105,
   "metadata": {},
   "outputs": [
    {
     "name": "stdout",
     "output_type": "stream",
     "text": [
      "('sea', 8)\n",
      "('annabel', 7)\n",
      "('lee', 7)\n",
      "('love', 6)\n",
      "('kingdom', 5)\n",
      "('beautiful', 4)\n",
      "('many', 3)\n",
      "('heaven', 3)\n",
      "('ago', 2)\n",
      "('maiden', 2)\n"
     ]
    }
   ],
   "source": [
    "top_n = 10\n",
    "y=[]\n",
    "for pair in range(top_n):\n",
    "    y.append([sorted_poe[pair][1]])\n",
    "    print(sorted_poe[pair])"
   ]
  },
  {
   "cell_type": "markdown",
   "metadata": {},
   "source": [
    "> The code above outputs the results for the top 10 words in Poe's \"Annabel Lee\""
   ]
  },
  {
   "cell_type": "markdown",
   "metadata": {},
   "source": [
    "#### Conclusion:"
   ]
  },
  {
   "cell_type": "markdown",
   "metadata": {},
   "source": [
    "Using Python, this project aims to perform text analysis on Robert Frost's poem \"Home Burial\" and compare it to Edgar Allen Poe's \"Annabel Lee.\" We previously predicted that \"Home Burial\" would have more negative words within the top frequently used words than \"Annabel Lee.\" The results reveal the top 10 words in \"Home Burial\" in descending order were: dont, see, know, man, go, must, cant, time, oh, time. The top ten words in Poe's \"Annabel Lee\" were: sea, annabel, love, kingdom, beautiful, many, heaven, ago, maiden. With these results, we can infer Poe's \"Annabel Lee\" had more frequently used positive words with words such as \"love,\" \"beautiful,\" and \"heaven.\" While \"Home burial\" had more regularly used negative words with words such as \"dont\" and \"cant.\""
   ]
  }
 ],
 "metadata": {
  "kernelspec": {
   "display_name": "Python 3",
   "language": "python",
   "name": "python3"
  },
  "language_info": {
   "codemirror_mode": {
    "name": "ipython",
    "version": 3
   },
   "file_extension": ".py",
   "mimetype": "text/x-python",
   "name": "python",
   "nbconvert_exporter": "python",
   "pygments_lexer": "ipython3",
   "version": "3.7.4"
  }
 },
 "nbformat": 4,
 "nbformat_minor": 4
}
